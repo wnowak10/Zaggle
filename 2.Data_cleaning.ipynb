{
 "cells": [
  {
   "cell_type": "markdown",
   "metadata": {},
   "source": [
    "# Data cleaning"
   ]
  },
  {
   "cell_type": "markdown",
   "metadata": {},
   "source": [
    "## Intro:\n",
    "\n",
    "In this notebook, I will import the updated training features from notebook 1. I will then clean the training data and end by splitting the data into training, validation, and test sets (x and y)."
   ]
  },
  {
   "cell_type": "markdown",
   "metadata": {},
   "source": [
    "Shoutout to these helpful scripts:\n",
    "\n",
    "- https://www.kaggle.com/infinitewing/xgboost-without-outliers-lb-0-06463"
   ]
  },
  {
   "cell_type": "code",
   "execution_count": 85,
   "metadata": {
    "collapsed": true
   },
   "outputs": [],
   "source": [
    "import numpy as np\n",
    "import pandas as pd\n",
    "import timeit\n",
    "# import xgboost as xgb\n",
    "from sklearn.preprocessing import LabelEncoder\n",
    "from sklearn import preprocessing\n",
    "import category_encoders as ce\n",
    "\n",
    "# from datetime import datetime\n",
    "import re\n",
    "\n",
    "import matplotlib.pyplot as plt\n",
    "import seaborn as sns\n",
    "color = sns.color_palette()\n",
    "%matplotlib inline"
   ]
  },
  {
   "cell_type": "code",
   "execution_count": 86,
   "metadata": {
    "collapsed": true
   },
   "outputs": [],
   "source": [
    "np.random.seed(1234)"
   ]
  },
  {
   "cell_type": "code",
   "execution_count": 232,
   "metadata": {
    "collapsed": true
   },
   "outputs": [],
   "source": [
    "# Read data from saved pickle files from notebook 1.\n",
    "updated_properties = pd.read_pickle('Data/updated_properties')\n",
    "train = pd.read_pickle('Data/train')"
   ]
  },
  {
   "cell_type": "code",
   "execution_count": 88,
   "metadata": {
    "collapsed": true
   },
   "outputs": [],
   "source": [
    "for c, dtype in zip(updated_properties.columns, updated_properties.dtypes):\n",
    "    if dtype == np.float64:\n",
    "        updated_properties[c] = updated_properties[c].astype(np.float32)"
   ]
  },
  {
   "cell_type": "code",
   "execution_count": 89,
   "metadata": {
    "collapsed": true
   },
   "outputs": [],
   "source": [
    "# updated_properties.info()\n",
    "# We can see that changing to float32 reduces memory by 500MB"
   ]
  },
  {
   "cell_type": "code",
   "execution_count": 90,
   "metadata": {},
   "outputs": [
    {
     "name": "stdout",
     "output_type": "stream",
     "text": [
      "(2985217, 68)\n"
     ]
    }
   ],
   "source": [
    "print(updated_properties.shape)"
   ]
  },
  {
   "cell_type": "markdown",
   "metadata": {},
   "source": [
    "For each house (or apartment, rental...), we have 67 features (68 minus parcelid), and only 4 come as object dtypes. Let's inspect these first."
   ]
  },
  {
   "cell_type": "markdown",
   "metadata": {},
   "source": [
    "## Handle object dtypes"
   ]
  },
  {
   "cell_type": "code",
   "execution_count": 91,
   "metadata": {
    "collapsed": true
   },
   "outputs": [],
   "source": [
    "obj_cols = []\n",
    "for col in updated_properties.columns:\n",
    "        # for each column, see if it is a object type\n",
    "        if updated_properties[col].dtype == 'O':\n",
    "            obj_cols.append(col)\n",
    "            \n",
    "unique_vals = {}\n",
    "# for each object dtype, add unique values to labeled dictionary element\n",
    "for col in updated_properties[obj_cols]:\n",
    "    unique_vals[col]= (updated_properties[obj_cols][col].unique())"
   ]
  },
  {
   "cell_type": "code",
   "execution_count": 92,
   "metadata": {},
   "outputs": [
    {
     "data": {
      "text/plain": [
       "{'fireplaceflag': array([nan, True], dtype=object),\n",
       " 'hashottuborspa': array([nan, True], dtype=object),\n",
       " 'propertycountylandusecode': array(['010D', '0109', '1200', '1210', '010V', '300V', '0100', '0200',\n",
       "        '010C', '0300', '1204', '100V', '01HC', '120C', '040V', '1214',\n",
       "        '0101', nan, '070P', '0700', '1', '128', '0', '1112', '5050',\n",
       "        '1110', '1118', '010E', '1111', '1129', '1420', '1222', '1128',\n",
       "        '1310', '1117', '1333', '1116', '1410', '0104', '070D', '0108',\n",
       "        '012C', '0400', '0103', '01DC', '0201', '010M', '030V', '0110',\n",
       "        '010F', '010G', '010H', '0301', '0102', '020E', '020M', '0401',\n",
       "        '0113', '0141', '122', '38', '135', '96', '71', '73', '34', '0209',\n",
       "        '040G', '010L', '012E', '0111', '1720', '1014', '012D', '1213',\n",
       "        '1201', '1321', '1444', '1421', '0140', '0123', '0133', '020G',\n",
       "        '030G', '105', '0204', '010T', '0120', '1202', '121G', '010X',\n",
       "        '020V', '880V', '1120', '0130', '0118', '01HE', '120G', '5060',\n",
       "        '0131', '0203', '011C', '1215', '1212', '040D', '120T', '0420', '8',\n",
       "        '1203', '070X', '0114', '030E', '121T', '1012', '121C', '0105', '5',\n",
       "        '020C', '0106', '040B', '10E', '1216', '3', '0121', '1722', '1432',\n",
       "        '1119', '9000', '103', '6050', '8800', '0304', '0303', '172C',\n",
       "        '1011', '070V', '0309', '030C', '1211', '020X', '84', '070L',\n",
       "        '12TO', '121L', '0701', '1218', '0720', '101', '070G', '0600',\n",
       "        '12T0', '01DD', '0409', '302C', '0410', '01DG', '4101', '0202',\n",
       "        '0710', '7500', '010', '0310', '0115', '1723', '0711', '0220',\n",
       "        '014D', '030L', '10G', '07M', '0450', '0230', '0208', '201', '030D',\n",
       "        '590V', '2', '104', '0210', '121O', '91', '121*', '0402', '1205',\n",
       "        '010Y', '36', '10C', '9100', '0741', '172G', '1181', '2003', '12T2',\n",
       "        '0403', '200', '0305', '01T0', '070M', '012G', '1206', '8830',\n",
       "        '030A', '4400', '7301', '1208', '01DE', '7842', '0404', '040A',\n",
       "        '0320', '1002', '020A', '02G0', '1724', '0122', '04TO', '1217',\n",
       "        '7200', '0730', '4', '2700', '76', '071P', '1820', '0134', '1013',\n",
       "        '5900', '020D', 'SFR', '0132', '01C', '0308', '7100', '121X',\n",
       "        '0231', '03TO', '030B', '01MC', '12T4', '5011', '3414'], dtype=object),\n",
       " 'propertyzoningdesc': array([nan, 'LCA11*', 'LAC2', ..., 'WCR1400000', 'EMPYYY', 'RMM2*'], dtype=object),\n",
       " 'taxdelinquencyflag': array([nan, 'Y'], dtype=object)}"
      ]
     },
     "execution_count": 92,
     "metadata": {},
     "output_type": "execute_result"
    }
   ],
   "source": [
    "unique_vals"
   ]
  },
  {
   "cell_type": "code",
   "execution_count": 93,
   "metadata": {},
   "outputs": [
    {
     "name": "stdout",
     "output_type": "stream",
     "text": [
      "5639\n"
     ]
    }
   ],
   "source": [
    "print(len(unique_vals['propertyzoningdesc']))"
   ]
  },
  {
   "cell_type": "markdown",
   "metadata": {
    "variables": {
     "len(unique_vals['propertyzoningdesc'])": "5639"
    }
   },
   "source": [
    "Fairly standard....but the property zoning description variable has {{len(unique_vals['propertyzoningdesc'])}} different outcomes. This seems a bit excessive and holds us up when we try to do one-hot encoding. Let's try to trim it."
   ]
  },
  {
   "cell_type": "code",
   "execution_count": 94,
   "metadata": {},
   "outputs": [
    {
     "data": {
      "text/html": [
       "<div>\n",
       "<style>\n",
       "    .dataframe thead tr:only-child th {\n",
       "        text-align: right;\n",
       "    }\n",
       "\n",
       "    .dataframe thead th {\n",
       "        text-align: left;\n",
       "    }\n",
       "\n",
       "    .dataframe tbody tr th {\n",
       "        vertical-align: top;\n",
       "    }\n",
       "</style>\n",
       "<table border=\"1\" class=\"dataframe\">\n",
       "  <thead>\n",
       "    <tr style=\"text-align: right;\">\n",
       "      <th></th>\n",
       "      <th>propertyzoningdesc</th>\n",
       "    </tr>\n",
       "  </thead>\n",
       "  <tbody>\n",
       "    <tr>\n",
       "      <th>LAR1</th>\n",
       "      <td>275029</td>\n",
       "    </tr>\n",
       "    <tr>\n",
       "      <th>LAR3</th>\n",
       "      <td>67105</td>\n",
       "    </tr>\n",
       "    <tr>\n",
       "      <th>LARS</th>\n",
       "      <td>54859</td>\n",
       "    </tr>\n",
       "    <tr>\n",
       "      <th>LBR1N</th>\n",
       "      <td>52750</td>\n",
       "    </tr>\n",
       "    <tr>\n",
       "      <th>LAR2</th>\n",
       "      <td>48808</td>\n",
       "    </tr>\n",
       "    <tr>\n",
       "      <th>LARD1.5</th>\n",
       "      <td>39895</td>\n",
       "    </tr>\n",
       "    <tr>\n",
       "      <th>SCUR2</th>\n",
       "      <td>30459</td>\n",
       "    </tr>\n",
       "    <tr>\n",
       "      <th>LARD2</th>\n",
       "      <td>30377</td>\n",
       "    </tr>\n",
       "    <tr>\n",
       "      <th>TORR-LO</th>\n",
       "      <td>26632</td>\n",
       "    </tr>\n",
       "    <tr>\n",
       "      <th>LARA</th>\n",
       "      <td>26103</td>\n",
       "    </tr>\n",
       "  </tbody>\n",
       "</table>\n",
       "</div>"
      ],
      "text/plain": [
       "         propertyzoningdesc\n",
       "LAR1                 275029\n",
       "LAR3                  67105\n",
       "LARS                  54859\n",
       "LBR1N                 52750\n",
       "LAR2                  48808\n",
       "LARD1.5               39895\n",
       "SCUR2                 30459\n",
       "LARD2                 30377\n",
       "TORR-LO               26632\n",
       "LARA                  26103"
      ]
     },
     "execution_count": 94,
     "metadata": {},
     "output_type": "execute_result"
    }
   ],
   "source": [
    "pd.DataFrame(updated_properties['propertyzoningdesc'].value_counts())[0:10]"
   ]
  },
  {
   "cell_type": "markdown",
   "metadata": {},
   "source": [
    "So most properties have code 'LAR1', and the distribution is heavily skewed right, with most zoning codes only appearing once."
   ]
  },
  {
   "cell_type": "code",
   "execution_count": 95,
   "metadata": {},
   "outputs": [
    {
     "data": {
      "text/plain": [
       "<matplotlib.axes._subplots.AxesSubplot at 0x20a5fe358>"
      ]
     },
     "execution_count": 95,
     "metadata": {},
     "output_type": "execute_result"
    },
    {
     "data": {
      "image/png": "[encoded data removed]",
      "text/plain": [
       "<matplotlib.figure.Figure at 0x1166635c0>"
      ]
     },
     "metadata": {},
     "output_type": "display_data"
    }
   ],
   "source": [
    "sns.distplot(pd.DataFrame(updated_properties['propertyzoningdesc'].value_counts().reset_index())['propertyzoningdesc'])"
   ]
  },
  {
   "cell_type": "code",
   "execution_count": 96,
   "metadata": {},
   "outputs": [
    {
     "data": {
      "text/plain": [
       "<matplotlib.axes._subplots.AxesSubplot at 0x12e1f32b0>"
      ]
     },
     "execution_count": 96,
     "metadata": {},
     "output_type": "execute_result"
    },
    {
     "data": {
      "image/png": "[encoded data removed]",
      "text/plain": [
       "<matplotlib.figure.Figure at 0x1166914e0>"
      ]
     },
     "metadata": {},
     "output_type": "display_data"
    }
   ],
   "source": [
    "sns.distplot(pd.DataFrame(updated_properties['propertyzoningdesc'].value_counts().reset_index()[0:20])['propertyzoningdesc'])"
   ]
  },
  {
   "cell_type": "markdown",
   "metadata": {},
   "source": [
    "Zoomed in to look at only 20 most populat zoning codes...you can see we have 1 zoning code that occurs 250k times and then most others in the top 20 occur less than 50 thousand times.\n",
    "\n",
    "So where should we trim?"
   ]
  },
  {
   "cell_type": "code",
   "execution_count": 97,
   "metadata": {},
   "outputs": [
    {
     "data": {
      "text/plain": [
       "62"
      ]
     },
     "execution_count": 97,
     "metadata": {},
     "output_type": "execute_result"
    }
   ],
   "source": [
    "sum(pd.DataFrame(updated_properties['propertyzoningdesc'].value_counts())['propertyzoningdesc']>5000)"
   ]
  },
  {
   "cell_type": "markdown",
   "metadata": {},
   "source": [
    "The code above shows that there are 62 different zoning types that have at least 5000 homes in the sample that fall in them. Let's draw an arbitrary line in the sand here. If a home has a zoning type that is not one of these 62, let's call it other."
   ]
  },
  {
   "cell_type": "code",
   "execution_count": 98,
   "metadata": {
    "collapsed": true
   },
   "outputs": [],
   "source": [
    "# Find boolean. Return true if this propertyzoningdesc shows up >5000 in data. \n",
    "popular_codes = pd.DataFrame(updated_properties['propertyzoningdesc'].value_counts())['propertyzoningdesc']>5000"
   ]
  },
  {
   "cell_type": "code",
   "execution_count": 99,
   "metadata": {},
   "outputs": [
    {
     "data": {
      "text/html": [
       "<div>\n",
       "<style>\n",
       "    .dataframe thead tr:only-child th {\n",
       "        text-align: right;\n",
       "    }\n",
       "\n",
       "    .dataframe thead th {\n",
       "        text-align: left;\n",
       "    }\n",
       "\n",
       "    .dataframe tbody tr th {\n",
       "        vertical-align: top;\n",
       "    }\n",
       "</style>\n",
       "<table border=\"1\" class=\"dataframe\">\n",
       "  <thead>\n",
       "    <tr style=\"text-align: right;\">\n",
       "      <th></th>\n",
       "      <th>index</th>\n",
       "      <th>propertyzoningdesc</th>\n",
       "    </tr>\n",
       "  </thead>\n",
       "  <tbody>\n",
       "    <tr>\n",
       "      <th>0</th>\n",
       "      <td>LAR1</td>\n",
       "      <td>275029</td>\n",
       "    </tr>\n",
       "    <tr>\n",
       "      <th>1</th>\n",
       "      <td>LAR3</td>\n",
       "      <td>67105</td>\n",
       "    </tr>\n",
       "  </tbody>\n",
       "</table>\n",
       "</div>"
      ],
      "text/plain": [
       "  index  propertyzoningdesc\n",
       "0  LAR1              275029\n",
       "1  LAR3               67105"
      ]
     },
     "execution_count": 99,
     "metadata": {},
     "output_type": "execute_result"
    }
   ],
   "source": [
    "# Make df of index and number of times in properties df this zoningdesc shows up.\n",
    "zoning_code_df = pd.DataFrame(updated_properties['propertyzoningdesc'].value_counts())[popular_codes].reset_index()\n",
    "zoning_code_df.head(2)"
   ]
  },
  {
   "cell_type": "code",
   "execution_count": 100,
   "metadata": {
    "collapsed": true
   },
   "outputs": [],
   "source": [
    "# Use pd.isin! \n",
    "# This resets propertyzoningdesc so that we only have top 62 zoning types, plus 'Other'.\n",
    "updated_properties['propertyzoningdesc'] = np.where(updated_properties['propertyzoningdesc'].isin(set(zoning_code_df['index'])),updated_properties['propertyzoningdesc'],'Other')"
   ]
  },
  {
   "cell_type": "code",
   "execution_count": 101,
   "metadata": {},
   "outputs": [
    {
     "data": {
      "text/html": [
       "<div>\n",
       "<style>\n",
       "    .dataframe thead tr:only-child th {\n",
       "        text-align: right;\n",
       "    }\n",
       "\n",
       "    .dataframe thead th {\n",
       "        text-align: left;\n",
       "    }\n",
       "\n",
       "    .dataframe tbody tr th {\n",
       "        vertical-align: top;\n",
       "    }\n",
       "</style>\n",
       "<table border=\"1\" class=\"dataframe\">\n",
       "  <thead>\n",
       "    <tr style=\"text-align: right;\">\n",
       "      <th></th>\n",
       "      <th>parcelid</th>\n",
       "      <th>airconditioningtypeid</th>\n",
       "      <th>architecturalstyletypeid</th>\n",
       "      <th>basementsqft</th>\n",
       "      <th>bathroomcnt</th>\n",
       "      <th>bedroomcnt</th>\n",
       "      <th>buildingclasstypeid</th>\n",
       "      <th>buildingqualitytypeid</th>\n",
       "      <th>calculatedbathnbr</th>\n",
       "      <th>decktypeid</th>\n",
       "      <th>...</th>\n",
       "      <th>N-LivingAreaProp</th>\n",
       "      <th>N-ValueRatio</th>\n",
       "      <th>N-ValueProp</th>\n",
       "      <th>N-location</th>\n",
       "      <th>N-location-2</th>\n",
       "      <th>N-ExtraSpace</th>\n",
       "      <th>N-zip_count</th>\n",
       "      <th>N-TaxScore</th>\n",
       "      <th>N-Avg-structuretaxvaluedollarcnt</th>\n",
       "      <th>N-structuretaxvaluedollarcnt-2</th>\n",
       "    </tr>\n",
       "  </thead>\n",
       "  <tbody>\n",
       "    <tr>\n",
       "      <th>0</th>\n",
       "      <td>10754147</td>\n",
       "      <td>NaN</td>\n",
       "      <td>NaN</td>\n",
       "      <td>NaN</td>\n",
       "      <td>0.0</td>\n",
       "      <td>0.0</td>\n",
       "      <td>NaN</td>\n",
       "      <td>NaN</td>\n",
       "      <td>NaN</td>\n",
       "      <td>NaN</td>\n",
       "      <td>...</td>\n",
       "      <td>NaN</td>\n",
       "      <td>NaN</td>\n",
       "      <td>NaN</td>\n",
       "      <td>-84509640.0</td>\n",
       "      <td>-4.051377e+15</td>\n",
       "      <td>NaN</td>\n",
       "      <td>8496.0</td>\n",
       "      <td>NaN</td>\n",
       "      <td>375668.56250</td>\n",
       "      <td>NaN</td>\n",
       "    </tr>\n",
       "    <tr>\n",
       "      <th>1</th>\n",
       "      <td>10759547</td>\n",
       "      <td>NaN</td>\n",
       "      <td>NaN</td>\n",
       "      <td>NaN</td>\n",
       "      <td>0.0</td>\n",
       "      <td>0.0</td>\n",
       "      <td>NaN</td>\n",
       "      <td>NaN</td>\n",
       "      <td>NaN</td>\n",
       "      <td>NaN</td>\n",
       "      <td>...</td>\n",
       "      <td>NaN</td>\n",
       "      <td>NaN</td>\n",
       "      <td>NaN</td>\n",
       "      <td>-84484936.0</td>\n",
       "      <td>-4.049921e+15</td>\n",
       "      <td>NaN</td>\n",
       "      <td>8496.0</td>\n",
       "      <td>NaN</td>\n",
       "      <td>375668.56250</td>\n",
       "      <td>NaN</td>\n",
       "    </tr>\n",
       "    <tr>\n",
       "      <th>2</th>\n",
       "      <td>10843547</td>\n",
       "      <td>NaN</td>\n",
       "      <td>NaN</td>\n",
       "      <td>NaN</td>\n",
       "      <td>0.0</td>\n",
       "      <td>0.0</td>\n",
       "      <td>NaN</td>\n",
       "      <td>NaN</td>\n",
       "      <td>NaN</td>\n",
       "      <td>NaN</td>\n",
       "      <td>...</td>\n",
       "      <td>1.157581</td>\n",
       "      <td>67.950089</td>\n",
       "      <td>0.853304</td>\n",
       "      <td>-84405272.0</td>\n",
       "      <td>-4.024158e+15</td>\n",
       "      <td>-9941.0</td>\n",
       "      <td>9437.0</td>\n",
       "      <td>2.939897e+10</td>\n",
       "      <td>145331.09375</td>\n",
       "      <td>4.234834e+11</td>\n",
       "    </tr>\n",
       "    <tr>\n",
       "      <th>3</th>\n",
       "      <td>10859147</td>\n",
       "      <td>NaN</td>\n",
       "      <td>NaN</td>\n",
       "      <td>NaN</td>\n",
       "      <td>0.0</td>\n",
       "      <td>0.0</td>\n",
       "      <td>3.0</td>\n",
       "      <td>7.0</td>\n",
       "      <td>NaN</td>\n",
       "      <td>NaN</td>\n",
       "      <td>...</td>\n",
       "      <td>0.673847</td>\n",
       "      <td>79.466148</td>\n",
       "      <td>0.975846</td>\n",
       "      <td>-84288344.0</td>\n",
       "      <td>-4.044496e+15</td>\n",
       "      <td>2453.0</td>\n",
       "      <td>7916.0</td>\n",
       "      <td>1.684069e+10</td>\n",
       "      <td>182727.84375</td>\n",
       "      <td>3.264363e+11</td>\n",
       "    </tr>\n",
       "    <tr>\n",
       "      <th>4</th>\n",
       "      <td>10879947</td>\n",
       "      <td>NaN</td>\n",
       "      <td>NaN</td>\n",
       "      <td>NaN</td>\n",
       "      <td>0.0</td>\n",
       "      <td>0.0</td>\n",
       "      <td>4.0</td>\n",
       "      <td>NaN</td>\n",
       "      <td>NaN</td>\n",
       "      <td>NaN</td>\n",
       "      <td>...</td>\n",
       "      <td>0.208647</td>\n",
       "      <td>75.716705</td>\n",
       "      <td>0.808511</td>\n",
       "      <td>-84191648.0</td>\n",
       "      <td>-4.048104e+15</td>\n",
       "      <td>6736.0</td>\n",
       "      <td>7725.0</td>\n",
       "      <td>2.481810e+09</td>\n",
       "      <td>182727.84375</td>\n",
       "      <td>3.755689e+10</td>\n",
       "    </tr>\n",
       "  </tbody>\n",
       "</table>\n",
       "<p>5 rows × 68 columns</p>\n",
       "</div>"
      ],
      "text/plain": [
       "   parcelid  airconditioningtypeid  architecturalstyletypeid  basementsqft  \\\n",
       "0  10754147                    NaN                       NaN           NaN   \n",
       "1  10759547                    NaN                       NaN           NaN   \n",
       "2  10843547                    NaN                       NaN           NaN   \n",
       "3  10859147                    NaN                       NaN           NaN   \n",
       "4  10879947                    NaN                       NaN           NaN   \n",
       "\n",
       "   bathroomcnt  bedroomcnt  buildingclasstypeid  buildingqualitytypeid  \\\n",
       "0          0.0         0.0                  NaN                    NaN   \n",
       "1          0.0         0.0                  NaN                    NaN   \n",
       "2          0.0         0.0                  NaN                    NaN   \n",
       "3          0.0         0.0                  3.0                    7.0   \n",
       "4          0.0         0.0                  4.0                    NaN   \n",
       "\n",
       "   calculatedbathnbr  decktypeid               ...                \\\n",
       "0                NaN         NaN               ...                 \n",
       "1                NaN         NaN               ...                 \n",
       "2                NaN         NaN               ...                 \n",
       "3                NaN         NaN               ...                 \n",
       "4                NaN         NaN               ...                 \n",
       "\n",
       "   N-LivingAreaProp  N-ValueRatio  N-ValueProp  N-location  N-location-2  \\\n",
       "0               NaN           NaN          NaN -84509640.0 -4.051377e+15   \n",
       "1               NaN           NaN          NaN -84484936.0 -4.049921e+15   \n",
       "2          1.157581     67.950089     0.853304 -84405272.0 -4.024158e+15   \n",
       "3          0.673847     79.466148     0.975846 -84288344.0 -4.044496e+15   \n",
       "4          0.208647     75.716705     0.808511 -84191648.0 -4.048104e+15   \n",
       "\n",
       "   N-ExtraSpace  N-zip_count    N-TaxScore  N-Avg-structuretaxvaluedollarcnt  \\\n",
       "0           NaN       8496.0           NaN                      375668.56250   \n",
       "1           NaN       8496.0           NaN                      375668.56250   \n",
       "2       -9941.0       9437.0  2.939897e+10                      145331.09375   \n",
       "3        2453.0       7916.0  1.684069e+10                      182727.84375   \n",
       "4        6736.0       7725.0  2.481810e+09                      182727.84375   \n",
       "\n",
       "   N-structuretaxvaluedollarcnt-2  \n",
       "0                             NaN  \n",
       "1                             NaN  \n",
       "2                    4.234834e+11  \n",
       "3                    3.264363e+11  \n",
       "4                    3.755689e+10  \n",
       "\n",
       "[5 rows x 68 columns]"
      ]
     },
     "execution_count": 101,
     "metadata": {},
     "output_type": "execute_result"
    }
   ],
   "source": [
    "updated_properties.head(5)"
   ]
  },
  {
   "cell_type": "markdown",
   "metadata": {},
   "source": [
    "So most of the object columns contain nan and one other value, like True or Y...'propertycountylandusecode' contains various categorical codes. This is all easy enough. If we use sklearn label encoder, we can convert each categrical response to a number...but this seems bad to do. We don't want a machine learning model to interpret the difference between landcode '010D' = 1 and '1210' = 4 as four times as much. This seems to be a mistake the label encoder method uses. \n",
    "\n",
    "XGB (the planned model here) takes only numeric [input](https://github.com/dmlc/xgboost/issues/95), so I think we should do [one hot encoding](https://hackernoon.com/what-is-one-hot-encoding-why-and-when-do-you-have-to-use-it-e3c6186d008f), right?\n",
    "\n",
    "Actually, with further research, it seems that one hot encoding can be too cumbersome. We actually are going to try binary encoding, since that seems to perform [best](http://www.kdnuggets.com/2015/12/beyond-one-hot-exploration-categorical-variables.html).\n",
    "\n",
    "See: https://roamanalytics.com/2016/10/28/are-categorical-variables-getting-lost-in-your-random-forests/"
   ]
  },
  {
   "cell_type": "markdown",
   "metadata": {},
   "source": [
    "### Binary encode object vars:"
   ]
  },
  {
   "cell_type": "markdown",
   "metadata": {},
   "source": [
    "So how do we binary encode something...the idea is that we can encode 2 categories with one variable (0 or 1) but we can encode 4 categories with two variables with each value slightly extended (0 0, 1 1, 0 1, 1 0). This is better than one hot encoding, where we would need 3 variables to represent 4 categories. \n",
    "\n",
    "We can handle a greater number of categories in this case while not making our data grow excessively wide. For instance, 8 categories would require 7 one hots, but only 3 binary variables (111, 110, 100, 000, 001, 011, 010, 101). This efficiency scales exponentially, in a way.\n",
    "\n",
    "So let's try to implement this."
   ]
  },
  {
   "cell_type": "code",
   "execution_count": 18,
   "metadata": {
    "collapsed": true
   },
   "outputs": [],
   "source": [
    "# updated_properties['propertycountylandusecode'].value_counts()"
   ]
  },
  {
   "cell_type": "code",
   "execution_count": 19,
   "metadata": {
    "collapsed": true
   },
   "outputs": [],
   "source": [
    "# Convert to string so we can convert to numbers.\n",
    "updated_properties['propertycountylandusecode'] = updated_properties['propertycountylandusecode'].astype('str') "
   ]
  },
  {
   "cell_type": "code",
   "execution_count": 102,
   "metadata": {
    "collapsed": true
   },
   "outputs": [],
   "source": [
    "le = preprocessing.LabelEncoder()\n",
    "le.fit(updated_properties['propertycountylandusecode'].astype('str'))\n",
    "x = le.transform(updated_properties['propertycountylandusecode'].astype('str')) "
   ]
  },
  {
   "cell_type": "code",
   "execution_count": 103,
   "metadata": {},
   "outputs": [
    {
     "data": {
      "text/plain": [
       "2      1153896\n",
       "177     522145\n",
       "3       247494\n",
       "11      225410\n",
       "dtype: int64"
      ]
     },
     "execution_count": 103,
     "metadata": {},
     "output_type": "execute_result"
    }
   ],
   "source": [
    "# Check to see if this seems to have worked\n",
    "pd.Series(x).value_counts()[0:4]"
   ]
  },
  {
   "cell_type": "code",
   "execution_count": 104,
   "metadata": {},
   "outputs": [
    {
     "data": {
      "text/plain": [
       "0100    1153896\n",
       "122      522145\n",
       "0101     247494\n",
       "010C     225410\n",
       "Name: propertycountylandusecode, dtype: int64"
      ]
     },
     "execution_count": 104,
     "metadata": {},
     "output_type": "execute_result"
    }
   ],
   "source": [
    "updated_properties['propertycountylandusecode'].value_counts()[0:4]"
   ]
  },
  {
   "cell_type": "markdown",
   "metadata": {},
   "source": [
    "Great...so we can see above that, for example, the code '0100' was converted to the number 2. Similarly, the code '010C' was converted to the number 11. So now this variable just has different integers in place of where it originally had confusing codes. \n",
    "\n",
    "This is nice because we can represent these numbers with binary. Let's attempt:"
   ]
  },
  {
   "cell_type": "code",
   "execution_count": 105,
   "metadata": {},
   "outputs": [
    {
     "name": "stdout",
     "output_type": "stream",
     "text": [
      "241\n"
     ]
    }
   ],
   "source": [
    "print(len(pd.Series(x).value_counts()))"
   ]
  },
  {
   "cell_type": "code",
   "execution_count": 106,
   "metadata": {
    "collapsed": true
   },
   "outputs": [],
   "source": [
    "import category_encoders as ce"
   ]
  },
  {
   "cell_type": "markdown",
   "metadata": {
    "variables": {
     "len(pd.Series(x).value_counts())": "241"
    }
   },
   "source": [
    "Since we have {{len(pd.Series(x).value_counts())}} unique values, we need to use binary 8 (2^8 = 256 < 241). So let's encode each number into 8 bits. We could do this manually, but the category encoder package handles this well:"
   ]
  },
  {
   "cell_type": "code",
   "execution_count": 212,
   "metadata": {
    "collapsed": true
   },
   "outputs": [],
   "source": [
    "properties3 = pd.read_pickle('Data/binarized_objects')"
   ]
  },
  {
   "cell_type": "code",
   "execution_count": 108,
   "metadata": {},
   "outputs": [
    {
     "data": {
      "text/html": [
       "<div>\n",
       "<style>\n",
       "    .dataframe thead tr:only-child th {\n",
       "        text-align: right;\n",
       "    }\n",
       "\n",
       "    .dataframe thead th {\n",
       "        text-align: left;\n",
       "    }\n",
       "\n",
       "    .dataframe tbody tr th {\n",
       "        vertical-align: top;\n",
       "    }\n",
       "</style>\n",
       "<table border=\"1\" class=\"dataframe\">\n",
       "  <thead>\n",
       "    <tr style=\"text-align: right;\">\n",
       "      <th></th>\n",
       "      <th>level_0</th>\n",
       "      <th>hashottuborspa_0</th>\n",
       "      <th>propertycountylandusecode_0</th>\n",
       "      <th>propertycountylandusecode_1</th>\n",
       "      <th>propertycountylandusecode_2</th>\n",
       "      <th>propertycountylandusecode_3</th>\n",
       "      <th>propertycountylandusecode_4</th>\n",
       "      <th>propertycountylandusecode_5</th>\n",
       "      <th>propertycountylandusecode_6</th>\n",
       "      <th>propertycountylandusecode_7</th>\n",
       "      <th>...</th>\n",
       "      <th>N-LivingAreaProp</th>\n",
       "      <th>N-ValueRatio</th>\n",
       "      <th>N-ValueProp</th>\n",
       "      <th>N-location</th>\n",
       "      <th>N-location-2</th>\n",
       "      <th>N-ExtraSpace</th>\n",
       "      <th>N-zip_count</th>\n",
       "      <th>N-TaxScore</th>\n",
       "      <th>N-Avg-structuretaxvaluedollarcnt</th>\n",
       "      <th>N-structuretaxvaluedollarcnt-2</th>\n",
       "    </tr>\n",
       "  </thead>\n",
       "  <tbody>\n",
       "    <tr>\n",
       "      <th>0</th>\n",
       "      <td>0</td>\n",
       "      <td>NaN</td>\n",
       "      <td>0</td>\n",
       "      <td>0</td>\n",
       "      <td>0</td>\n",
       "      <td>0</td>\n",
       "      <td>0</td>\n",
       "      <td>0</td>\n",
       "      <td>0</td>\n",
       "      <td>0</td>\n",
       "      <td>...</td>\n",
       "      <td>NaN</td>\n",
       "      <td>NaN</td>\n",
       "      <td>NaN</td>\n",
       "      <td>-84509640.0</td>\n",
       "      <td>-4.051377e+15</td>\n",
       "      <td>NaN</td>\n",
       "      <td>8496.0</td>\n",
       "      <td>NaN</td>\n",
       "      <td>375668.56250</td>\n",
       "      <td>NaN</td>\n",
       "    </tr>\n",
       "    <tr>\n",
       "      <th>1</th>\n",
       "      <td>1</td>\n",
       "      <td>NaN</td>\n",
       "      <td>0</td>\n",
       "      <td>0</td>\n",
       "      <td>0</td>\n",
       "      <td>0</td>\n",
       "      <td>0</td>\n",
       "      <td>0</td>\n",
       "      <td>0</td>\n",
       "      <td>1</td>\n",
       "      <td>...</td>\n",
       "      <td>NaN</td>\n",
       "      <td>NaN</td>\n",
       "      <td>NaN</td>\n",
       "      <td>-84484936.0</td>\n",
       "      <td>-4.049921e+15</td>\n",
       "      <td>NaN</td>\n",
       "      <td>8496.0</td>\n",
       "      <td>NaN</td>\n",
       "      <td>375668.56250</td>\n",
       "      <td>NaN</td>\n",
       "    </tr>\n",
       "    <tr>\n",
       "      <th>2</th>\n",
       "      <td>2</td>\n",
       "      <td>NaN</td>\n",
       "      <td>0</td>\n",
       "      <td>0</td>\n",
       "      <td>0</td>\n",
       "      <td>0</td>\n",
       "      <td>0</td>\n",
       "      <td>0</td>\n",
       "      <td>1</td>\n",
       "      <td>0</td>\n",
       "      <td>...</td>\n",
       "      <td>1.157581</td>\n",
       "      <td>67.950089</td>\n",
       "      <td>0.853304</td>\n",
       "      <td>-84405272.0</td>\n",
       "      <td>-4.024158e+15</td>\n",
       "      <td>-9941.0</td>\n",
       "      <td>9437.0</td>\n",
       "      <td>2.939897e+10</td>\n",
       "      <td>145331.09375</td>\n",
       "      <td>4.234834e+11</td>\n",
       "    </tr>\n",
       "    <tr>\n",
       "      <th>3</th>\n",
       "      <td>3</td>\n",
       "      <td>NaN</td>\n",
       "      <td>0</td>\n",
       "      <td>0</td>\n",
       "      <td>0</td>\n",
       "      <td>0</td>\n",
       "      <td>0</td>\n",
       "      <td>0</td>\n",
       "      <td>1</td>\n",
       "      <td>0</td>\n",
       "      <td>...</td>\n",
       "      <td>0.673847</td>\n",
       "      <td>79.466148</td>\n",
       "      <td>0.975846</td>\n",
       "      <td>-84288344.0</td>\n",
       "      <td>-4.044496e+15</td>\n",
       "      <td>2453.0</td>\n",
       "      <td>7916.0</td>\n",
       "      <td>1.684069e+10</td>\n",
       "      <td>182727.84375</td>\n",
       "      <td>3.264363e+11</td>\n",
       "    </tr>\n",
       "    <tr>\n",
       "      <th>4</th>\n",
       "      <td>4</td>\n",
       "      <td>NaN</td>\n",
       "      <td>0</td>\n",
       "      <td>0</td>\n",
       "      <td>0</td>\n",
       "      <td>0</td>\n",
       "      <td>0</td>\n",
       "      <td>0</td>\n",
       "      <td>1</td>\n",
       "      <td>1</td>\n",
       "      <td>...</td>\n",
       "      <td>0.208647</td>\n",
       "      <td>75.716705</td>\n",
       "      <td>0.808511</td>\n",
       "      <td>-84191648.0</td>\n",
       "      <td>-4.048104e+15</td>\n",
       "      <td>6736.0</td>\n",
       "      <td>7725.0</td>\n",
       "      <td>2.481810e+09</td>\n",
       "      <td>182727.84375</td>\n",
       "      <td>3.755689e+10</td>\n",
       "    </tr>\n",
       "  </tbody>\n",
       "</table>\n",
       "<p>5 rows × 82 columns</p>\n",
       "</div>"
      ],
      "text/plain": [
       "   level_0  hashottuborspa_0  propertycountylandusecode_0  \\\n",
       "0        0               NaN                            0   \n",
       "1        1               NaN                            0   \n",
       "2        2               NaN                            0   \n",
       "3        3               NaN                            0   \n",
       "4        4               NaN                            0   \n",
       "\n",
       "   propertycountylandusecode_1  propertycountylandusecode_2  \\\n",
       "0                            0                            0   \n",
       "1                            0                            0   \n",
       "2                            0                            0   \n",
       "3                            0                            0   \n",
       "4                            0                            0   \n",
       "\n",
       "   propertycountylandusecode_3  propertycountylandusecode_4  \\\n",
       "0                            0                            0   \n",
       "1                            0                            0   \n",
       "2                            0                            0   \n",
       "3                            0                            0   \n",
       "4                            0                            0   \n",
       "\n",
       "   propertycountylandusecode_5  propertycountylandusecode_6  \\\n",
       "0                            0                            0   \n",
       "1                            0                            0   \n",
       "2                            0                            1   \n",
       "3                            0                            1   \n",
       "4                            0                            1   \n",
       "\n",
       "   propertycountylandusecode_7               ...                \\\n",
       "0                            0               ...                 \n",
       "1                            1               ...                 \n",
       "2                            0               ...                 \n",
       "3                            0               ...                 \n",
       "4                            1               ...                 \n",
       "\n",
       "   N-LivingAreaProp  N-ValueRatio  N-ValueProp  N-location  N-location-2  \\\n",
       "0               NaN           NaN          NaN -84509640.0 -4.051377e+15   \n",
       "1               NaN           NaN          NaN -84484936.0 -4.049921e+15   \n",
       "2          1.157581     67.950089     0.853304 -84405272.0 -4.024158e+15   \n",
       "3          0.673847     79.466148     0.975846 -84288344.0 -4.044496e+15   \n",
       "4          0.208647     75.716705     0.808511 -84191648.0 -4.048104e+15   \n",
       "\n",
       "   N-ExtraSpace  N-zip_count    N-TaxScore  N-Avg-structuretaxvaluedollarcnt  \\\n",
       "0           NaN       8496.0           NaN                      375668.56250   \n",
       "1           NaN       8496.0           NaN                      375668.56250   \n",
       "2       -9941.0       9437.0  2.939897e+10                      145331.09375   \n",
       "3        2453.0       7916.0  1.684069e+10                      182727.84375   \n",
       "4        6736.0       7725.0  2.481810e+09                      182727.84375   \n",
       "\n",
       "   N-structuretaxvaluedollarcnt-2  \n",
       "0                             NaN  \n",
       "1                             NaN  \n",
       "2                    4.234834e+11  \n",
       "3                    3.264363e+11  \n",
       "4                    3.755689e+10  \n",
       "\n",
       "[5 rows x 82 columns]"
      ]
     },
     "execution_count": 108,
     "metadata": {},
     "output_type": "execute_result"
    }
   ],
   "source": [
    "properties3.head()"
   ]
  },
  {
   "cell_type": "code",
   "execution_count": 109,
   "metadata": {
    "collapsed": true
   },
   "outputs": [],
   "source": [
    "# Working code to binarize object varibles. Commented out as I already ran\n",
    "# and now can load locally saved pickle file (as above)\n",
    "\n",
    "\n",
    "# start_time = timeit.default_timer()\n",
    "# encoder = ce.BinaryEncoder()\n",
    "\n",
    "# new_df2 = updated_properties\n",
    "# new_df2 = new_df2.reset_index()\n",
    "# for i, col in enumerate(new_df2[obj_cols]):\n",
    "#     print(i+1, '/', len(obj_cols),': Starting to binarize column {}.'.format(col))\n",
    "#     properties3 = encoder.fit_transform(new_df2, cols = col).reset_index()\n",
    "\n",
    "# print('Done!')\n",
    "\n",
    "# elapsed = timeit.default_timer() - start_time\n",
    "# print('This took {} seconds to run.'.format(elapsed))"
   ]
  },
  {
   "cell_type": "markdown",
   "metadata": {},
   "source": [
    "FYI, code above typically takes around 30 minutes to run on my 1.8GHZ processor, 8GB memory Macbook Air. This sucks, but whatever."
   ]
  },
  {
   "cell_type": "code",
   "execution_count": 110,
   "metadata": {},
   "outputs": [
    {
     "data": {
      "text/plain": [
       "(2985217, 82)"
      ]
     },
     "execution_count": 110,
     "metadata": {},
     "output_type": "execute_result"
    }
   ],
   "source": [
    "properties3.shape"
   ]
  },
  {
   "cell_type": "code",
   "execution_count": 28,
   "metadata": {
    "collapsed": true
   },
   "outputs": [],
   "source": [
    "# properties3.to_pickle('binarized_objects')"
   ]
  },
  {
   "cell_type": "code",
   "execution_count": 111,
   "metadata": {},
   "outputs": [
    {
     "name": "stdout",
     "output_type": "stream",
     "text": [
      "This time, we randomly chose to investigate if column 'propertycountylandusecode' is still here.\n",
      "\n",
      "It isn't, and we got the KeyError we wanted!\n"
     ]
    }
   ],
   "source": [
    "# Check to make sure bad columns are gone:\n",
    "import random\n",
    "try: # check to see if key in obj_cols is still there\n",
    "    random_column = random.choice(obj_cols)\n",
    "    print('This time, we randomly chose to investigate if column \\'{}\\' is still here.'.format(random_column))\n",
    "    properties3[random_column]\n",
    "except KeyError:\n",
    "    print('\\nIt isn\\'t, and we got the KeyError we wanted!')"
   ]
  },
  {
   "cell_type": "markdown",
   "metadata": {},
   "source": [
    "## Handle missing values\n"
   ]
  },
  {
   "cell_type": "code",
   "execution_count": 210,
   "metadata": {
    "collapsed": true
   },
   "outputs": [],
   "source": [
    "# NA fill with -1.\n",
    "\n",
    "# for c in properties3.columns:\n",
    "#     properties3[c]=properties3[c].fillna(-1)"
   ]
  },
  {
   "cell_type": "markdown",
   "metadata": {},
   "source": [
    "## Handle categorical data coded as numeric"
   ]
  },
  {
   "cell_type": "markdown",
   "metadata": {},
   "source": [
    "From reading the data dictionary, we see that several variables are coded with numeric responses, but thinking of them in a numeric way is fallacious. For example, 'HeatingOrSystemTypeID' has numeric responses 1-25..."
   ]
  },
  {
   "cell_type": "code",
   "execution_count": 116,
   "metadata": {},
   "outputs": [
    {
     "data": {
      "text/plain": [
       "2.0     1156830\n",
       "7.0      595453\n",
       "6.0       27480\n",
       "24.0      21107\n",
       "20.0       3216\n",
       "13.0       1342\n",
       "18.0        586\n",
       "1.0         262\n",
       "14.0         41\n",
       "10.0         39\n",
       "12.0         25\n",
       "11.0         16\n",
       "21.0          3\n",
       "19.0          1\n",
       "Name: heatingorsystemtypeid, dtype: int64"
      ]
     },
     "execution_count": 116,
     "metadata": {},
     "output_type": "execute_result"
    }
   ],
   "source": [
    "properties3['heatingorsystemtypeid'].value_counts()"
   ]
  },
  {
   "cell_type": "markdown",
   "metadata": {},
   "source": [
    "In this case, a 2.0 indicates 'Central' heating, whereas 7.0 indicates 'Floor/Wall'. If we treat this as numeric, Floor/Wall heating is somehow interpreted as ~4x Central heating. We don't want our model to be searching for this sort of non-existent relationship. Fortunately, most of the quanitatively labelled categorical variables have 'id' in their title. Let's use regex to ferret them out.\n",
    "\n",
    "Before we do so, let's note that the pooltypeid variables are just NAN or 1, indicating yes or no essentially. We can leave these as are and convert NAN to -1 later. \n",
    "- 'pooltypeid10'\n",
    "- 'pooltypeid2'\n",
    "- 'pooltypeid7'\n",
    "\n",
    "Otherwise, it seems, too that things like the FIPS code are numeric but shouldn't be considered so. I am not sure how we should deal with them, but let's make a list for now of other problematic ones:\n",
    "- 'fips'\n",
    "- 'rawcensustractandblock'\n",
    "- 'censustractandblock'\n",
    "- 'regionidcounty'\n",
    "- 'regionidcity'\n",
    "- 'regionidzip'\n",
    "- 'regionidneighborhood'"
   ]
  },
  {
   "cell_type": "code",
   "execution_count": 117,
   "metadata": {},
   "outputs": [
    {
     "name": "stdout",
     "output_type": "stream",
     "text": [
      "['parcelid', 'airconditioningtypeid', 'architecturalstyletypeid', 'buildingclasstypeid', 'buildingqualitytypeid', 'decktypeid', 'heatingorsystemtypeid', 'pooltypeid10', 'pooltypeid2', 'pooltypeid7', 'propertylandusetypeid', 'regionidcity', 'regionidcounty', 'regionidneighborhood', 'regionidzip', 'storytypeid', 'typeconstructiontypeid']\n"
     ]
    }
   ],
   "source": [
    "# Variables with id in the title:\n",
    "id_variables1 = []\n",
    "for col in properties3.columns:\n",
    "    if re.search(r'id', col):\n",
    "        id_variables1.append(col)\n",
    "print(id_variables1)"
   ]
  },
  {
   "cell_type": "markdown",
   "metadata": {},
   "source": [
    "Great, so we just need to take out pool variables and add in:\n",
    "- 'fips'\n",
    "- 'rawcensustractandblock'\n",
    "- 'censustractandblock'\n",
    "And we are good."
   ]
  },
  {
   "cell_type": "code",
   "execution_count": 118,
   "metadata": {},
   "outputs": [
    {
     "name": "stdout",
     "output_type": "stream",
     "text": [
      "['parcelid', 'airconditioningtypeid', 'architecturalstyletypeid', 'buildingclasstypeid', 'buildingqualitytypeid', 'decktypeid', 'heatingorsystemtypeid', 'propertylandusetypeid', 'regionidcity', 'regionidcounty', 'regionidneighborhood', 'regionidzip', 'storytypeid', 'typeconstructiontypeid', 'fips', 'rawcensustractandblock', 'censustractandblock']\n"
     ]
    }
   ],
   "source": [
    "to_add = ['fips','rawcensustractandblock','censustractandblock']\n",
    "id_variables_2 = id_variables1 + to_add\n",
    "to_leave_out = ['pooltypeid10', 'pooltypeid2', 'pooltypeid7']\n",
    "id_variables_3 = [item for item in id_variables_2 if item not in to_leave_out]\n",
    "\n",
    "print(id_variables_3)"
   ]
  },
  {
   "cell_type": "code",
   "execution_count": 119,
   "metadata": {},
   "outputs": [
    {
     "data": {
      "text/plain": [
       "['parcelid',\n",
       " 'airconditioningtypeid',\n",
       " 'architecturalstyletypeid',\n",
       " 'buildingclasstypeid',\n",
       " 'buildingqualitytypeid',\n",
       " 'decktypeid',\n",
       " 'heatingorsystemtypeid',\n",
       " 'propertylandusetypeid',\n",
       " 'regionidcity',\n",
       " 'regionidcounty',\n",
       " 'regionidneighborhood',\n",
       " 'regionidzip',\n",
       " 'storytypeid',\n",
       " 'typeconstructiontypeid',\n",
       " 'fips',\n",
       " 'rawcensustractandblock',\n",
       " 'censustractandblock']"
      ]
     },
     "execution_count": 119,
     "metadata": {},
     "output_type": "execute_result"
    }
   ],
   "source": [
    "id_variables_3"
   ]
  },
  {
   "cell_type": "markdown",
   "metadata": {
    "variables": {
     "len(id_variables_3)": "17"
    }
   },
   "source": [
    "With these {{len(id_variables_3)}} variables, we need to NOT use their numeric inputs as numeric, and must instead convert to categorical. One hots is again the way to go, I think."
   ]
  },
  {
   "cell_type": "markdown",
   "metadata": {},
   "source": [
    "Before converting to one hot, I noted that the following variables have thousands of unique values, so converting to one hot will be really expensive computationally. As a result, let's just drop them."
   ]
  },
  {
   "cell_type": "code",
   "execution_count": 211,
   "metadata": {},
   "outputs": [
    {
     "data": {
      "text/plain": [
       "['airconditioningtypeid',\n",
       " 'architecturalstyletypeid',\n",
       " 'buildingclasstypeid',\n",
       " 'buildingqualitytypeid',\n",
       " 'decktypeid',\n",
       " 'heatingorsystemtypeid',\n",
       " 'propertylandusetypeid',\n",
       " 'regionidcity',\n",
       " 'regionidcounty',\n",
       " 'regionidneighborhood',\n",
       " 'storytypeid',\n",
       " 'typeconstructiontypeid',\n",
       " 'fips']"
      ]
     },
     "execution_count": 211,
     "metadata": {},
     "output_type": "execute_result"
    }
   ],
   "source": [
    "also_to_leave_out = ['parcelid', 'regionidzip', 'rawcensustractandblock','censustractandblock']\n",
    "id_variables_4 = [item for item in id_variables_3 if item not in also_to_leave_out]\n",
    "id_variables_4"
   ]
  },
  {
   "cell_type": "code",
   "execution_count": 213,
   "metadata": {
    "collapsed": true
   },
   "outputs": [],
   "source": [
    "# from category_encoders import *\n",
    "# seemingly works with NAs\n",
    "enc = BinaryEncoder(cols=id_variables_4).fit(properties3)\n",
    "properties4 = enc.transform(properties3)"
   ]
  },
  {
   "cell_type": "code",
   "execution_count": 216,
   "metadata": {},
   "outputs": [
    {
     "data": {
      "text/plain": [
       "Index(['airconditioningtypeid_0', 'airconditioningtypeid_1',\n",
       "       'airconditioningtypeid_2', 'architecturalstyletypeid_0',\n",
       "       'architecturalstyletypeid_1', 'architecturalstyletypeid_2',\n",
       "       'architecturalstyletypeid_3', 'buildingclasstypeid_0',\n",
       "       'buildingclasstypeid_1', 'buildingclasstypeid_2',\n",
       "       ...\n",
       "       'N-LivingAreaProp', 'N-ValueRatio', 'N-ValueProp', 'N-location',\n",
       "       'N-location-2', 'N-ExtraSpace', 'N-zip_count', 'N-TaxScore',\n",
       "       'N-Avg-structuretaxvaluedollarcnt', 'N-structuretaxvaluedollarcnt-2'],\n",
       "      dtype='object', length=118)"
      ]
     },
     "execution_count": 216,
     "metadata": {},
     "output_type": "execute_result"
    }
   ],
   "source": [
    "properties4.columns"
   ]
  },
  {
   "cell_type": "code",
   "execution_count": 223,
   "metadata": {},
   "outputs": [
    {
     "data": {
      "text/plain": [
       "0.0    5511\n",
       "1.0     550\n",
       "Name: architecturalstyletypeid_2, dtype: int64"
      ]
     },
     "execution_count": 223,
     "metadata": {},
     "output_type": "execute_result"
    }
   ],
   "source": [
    "properties4['architecturalstyletypeid_2'].value_counts()"
   ]
  },
  {
   "cell_type": "code",
   "execution_count": 228,
   "metadata": {},
   "outputs": [
    {
     "name": "stdout",
     "output_type": "stream",
     "text": [
      "<class 'pandas.core.frame.DataFrame'>\n",
      "RangeIndex: 2985217 entries, 0 to 2985216\n",
      "Columns: 118 entries, airconditioningtypeid_0 to N-structuretaxvaluedollarcnt-2\n",
      "dtypes: float32(49), float64(52), int64(17)\n",
      "memory usage: 2.1 GB\n"
     ]
    }
   ],
   "source": [
    "properties4.info()"
   ]
  },
  {
   "cell_type": "code",
   "execution_count": 229,
   "metadata": {
    "collapsed": true
   },
   "outputs": [],
   "source": [
    "properties4.to_csv('binarized_numerics')"
   ]
  },
  {
   "cell_type": "code",
   "execution_count": 230,
   "metadata": {},
   "outputs": [
    {
     "data": {
      "text/plain": [
       "(2985217, 118)"
      ]
     },
     "execution_count": 230,
     "metadata": {},
     "output_type": "execute_result"
    }
   ],
   "source": [
    "properties4.shape"
   ]
  },
  {
   "cell_type": "markdown",
   "metadata": {},
   "source": [
    "## Subset (remove outliers...also just train on Oct for Oct...?)"
   ]
  },
  {
   "cell_type": "code",
   "execution_count": null,
   "metadata": {
    "collapsed": true
   },
   "outputs": [],
   "source": [
    "\n",
    "\n",
    "# drop out ouliers\n",
    "train_df=train_df[ train_df.logerror > -0.4 ]\n",
    "train_df=train_df[ train_df.logerror < 0.4 ]\n",
    "x_train=train_df.drop(['parcelid', 'logerror','transactiondate'], axis=1)\n",
    "y_train = train_df[\"logerror\"].values.astype(np.float32)\n",
    "y_mean = np.mean(y_train)"
   ]
  },
  {
   "cell_type": "code",
   "execution_count": null,
   "metadata": {
    "collapsed": true
   },
   "outputs": [],
   "source": [
    "\n",
    "\n",
    "print('After removing outliers:')     \n",
    "print('Shape train: {}\\nShape test: {}'.format(x_train.shape, x_test.shape))\n"
   ]
  },
  {
   "cell_type": "code",
   "execution_count": null,
   "metadata": {
    "collapsed": true
   },
   "outputs": [],
   "source": [
    "# output.to_csv('sub{}.csv'.format(datetime.now().strftime('%Y%_m_%d_%H:%M:%S')), index=False)"
   ]
  },
  {
   "cell_type": "markdown",
   "metadata": {
    "collapsed": true
   },
   "source": [
    "# Works cited:\n",
    "\n",
    "https://www.kaggle.com/anokas/simple-xgboost-starter-0-0655/code"
   ]
  },
  {
   "cell_type": "code",
   "execution_count": null,
   "metadata": {
    "collapsed": true
   },
   "outputs": [],
   "source": []
  }
 ],
 "metadata": {
  "kernelspec": {
   "display_name": "Python 3",
   "language": "python",
   "name": "python3"
  },
  "language_info": {
   "codemirror_mode": {
    "name": "ipython",
    "version": 3
   },
   "file_extension": ".py",
   "mimetype": "text/x-python",
   "name": "python",
   "nbconvert_exporter": "python",
   "pygments_lexer": "ipython3",
   "version": "3.5.3"
  },
  "toc": {
   "colors": {
    "hover_highlight": "#DAA520",
    "navigate_num": "#000000",
    "navigate_text": "#333333",
    "running_highlight": "#FF0000",
    "selected_highlight": "#FFD700",
    "sidebar_border": "#EEEEEE",
    "wrapper_background": "#FFFFFF"
   },
   "moveMenuLeft": true,
   "nav_menu": {
    "height": "12px",
    "width": "252px"
   },
   "navigate_menu": true,
   "number_sections": true,
   "sideBar": true,
   "threshold": 4,
   "toc_cell": false,
   "toc_section_display": "block",
   "toc_window_display": false,
   "widenNotebook": false
  }
 },
 "nbformat": 4,
 "nbformat_minor": 2
}
